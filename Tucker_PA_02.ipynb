# Question 1.
import numpy as np

arr = np.array(list(map(int, input("Enter 1st Exam Scores: ").split())))
arr2 = np.array(list(map(int, input("Enter 2nd Exam Scores: ").split())))

arr3 = (arr + arr2) / 2
print ("Average Scores: ", arr3)

i = np.sum(arr3 >= 80)
print ("Number of students who received 80 and above: ", i)

# Question 2
# TODO: Import NumPy
import numpy as np

file_name = input()

# TODO: Load student scores from file_name into a NumPy array

scores = np.loadtxt(file_name, dtype=int)

# TODO: Calculate the median and average of student scores

print (f"Median = {np.median(scores):.2f}") 
print (f"Average = {np.average(scores):.2f}") 

# TODO: Curve student scores
max_score = np.max(scores)
curved_scores = scores + (100 - max_score)

print ("Curved Scores = ", curved_scores)

# TODO: Output the median, average, and curved scores

# Question 3
import pandas as pd

file_name = input()

# TODO: Read in file_name as a dataframe
df = pd.read_csv(file_name, delimiter='\t')
# TODO: Output rows by descending Final scores
print(df)

# TODO: Output the max scores of each assignment
print("\nMax Scores:")
print(df.max(numeric_only=True).to_string())

# TODO: Output the median scores of each assignment
print("\nMedian Scores:")
print(df.median(numeric_only=True).to_string())

# TODO: Output the average scores of each assignment.
print("\nAverage Scores:")
print(df.mean(numeric_only=True).to_string())

# TODO: Output the standard devation of each assignment.
print("\nStandard Deviation:")
print(df.std(numeric_only=True).to_string()) 
